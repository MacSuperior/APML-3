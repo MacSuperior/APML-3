{
 "cells": [
  {
   "cell_type": "markdown",
   "metadata": {},
   "source": [
    "# Assignment 3 – Topic Modeling and Clustering for Online Social Media Data\n",
    "\n",
    "*Due: Friday January 12 at 14:00 CET*\n",
    "\n",
    "In the third assignment of the course Applications of Machine Learning (INFOB3APML), you will learn to use topic modeling and clustering to identify topics in online social media data. The objectives of this assignment are:\n",
    "- understand and process the text data\n",
    "- use the clustering algorithm to determine clusters in real-life data\n",
    "- use the Latent Dirichlet Allocation algorithm to identify discussed topics in real-life text data \n",
    "- use the visualization tools to validate the results of unsupervised learning and interpret your findings\n",
    "- reflect on the difference between two type of unsupervised learning algorithms\n",
    "\n",
    "In this assignment, you are going to discover the different ‘topics’ from a real social media text dataset. The project is divided into two parts (4 subtasks):\n",
    "\n",
    "- The first part contains data processing (1.1) and feature extraction (1.2) from the raw text data.\n",
    "- In the second part, you will implement two methods (2.1), a topic modeling method and a clustering method, to identify topics from the processed data. Then, the evaluation will be done by using visualization tools (2.2). \n",
    "\n",
    "Provided files:\n",
    "- The dataset: data/raw_data.txt\n",
    "- A tutorial notebook showcases some packages you could use for this assignment (optional): Ass3_tutorial.ipynb\n",
    "- Some sample visualization codes for interpreting the topic results: viz_example.ipynb"
   ]
  },
  {
   "cell_type": "code",
   "execution_count": 4,
   "metadata": {},
   "outputs": [],
   "source": [
    "import io\n",
    "import spacy\n",
    "import re\n",
    "from tqdm import tqdm\n",
    "import pickle\n",
    "from emoji import demojize\n",
    "\n",
    "from sklearn.feature_extraction.text import CountVectorizer, TfidfVectorizer\n",
    "\n",
    "# TODO: import the packages\n"
   ]
  },
  {
   "cell_type": "markdown",
   "metadata": {},
   "source": [
    " ## Dataset:\n",
    " The data used in this assignment is Dutch text data. We collected the COVID-19 crisis related messages from online social media (Twitter) from January to November 2021. Then, a subset of raw tweets was randomly sampled. In total, our dataset includes the text data of about 100K messages. **To protect the data privacy, please only use this dataset within the course.**"
   ]
  },
  {
   "cell_type": "code",
   "execution_count": 2,
   "metadata": {
    "scrolled": false
   },
   "outputs": [],
   "source": [
    "# read the data\n",
    "\n",
    "def phase0_open_txt_stream(filename):\n",
    "    return io.open(filename, \"r\", encoding=\"utf-8\")\n",
    "\n",
    "\n",
    "pipe = phase0_open_txt_stream(\"../others/others/data/raw_data.txt\")\n",
    "\n",
    "all_messages = []\n",
    "\n",
    "for message in pipe:\n",
    "    all_messages.append(message.strip())\n",
    "\n",
    "pipe.close()\n"
   ]
  },
  {
   "cell_type": "code",
   "execution_count": 22,
   "metadata": {},
   "outputs": [
    {
     "name": "stdout",
     "output_type": "stream",
     "text": [
      "100701 messages\n"
     ]
    }
   ],
   "source": [
    "print(f\"{len(all_messages)} messages\")"
   ]
  },
  {
   "cell_type": "markdown",
   "metadata": {},
   "source": [
    " ## 0. Before you start the Project: \n",
    " The provided messages in the raw dataset were collected based on 10 different themes that relate to the COVID-19 crisis. Here is a list of all themes:\n",
    " -\tLockdown\n",
    " -\tFace mask\n",
    " -\tSocial distancing\n",
    " -\tLoneliness\n",
    " -\tHappiness\n",
    " -\tVaccine\n",
    " -\tTesting\n",
    " -  Curfew\n",
    " -  Covid entry pass\n",
    " -  Work from home\n",
    "\n",
    "Before starting your project, you need to first filter the messages (all messages are in Dutch) and use the messages belonging to only one theme for the topic identification. \n",
    " \n",
    "If you have submitted the theme preference, you can skip the following paragraph.\n",
    "\n",
    "*Please notice that there will be maximum two teams working on a same theme. In this way, we hope that each group will develop their own dataset and come up with interesting results.*"
   ]
  },
  {
   "cell_type": "markdown",
   "metadata": {},
   "source": [
    " ## 1.1 Data Processing\n",
    " In the first part of the assignment, please first filter the messages and use the messages belonging to your allocated theme for the identification of topics. For that you will need to:\n",
    " -\tDesign your query (e.g. a regular expression or a set of keywords) and filter the related messages for your allocated theme. \n",
    " -\tClean your filtered messages and preprocess them into the right representation. Please refer to the text data pre-processing and representation methods discussed in the lecture. You may use some of the recommended packages for text data preprocessing and representation."
   ]
  },
  {
   "cell_type": "code",
   "execution_count": 23,
   "metadata": {},
   "outputs": [
    {
     "name": "stdout",
     "output_type": "stream",
     "text": [
      "100701\n",
      "[\"Hahah, het verzet is begonnen. Het knalt hier op z'n best hoor. Voor mijn dieren vind ik het erg, maar f@ck die maffe regering hier. Gelukkig nieuwjaar!\", 'RT @D66Vught: Het is 2021! https://t.co/LpPuFPuqR8', '@MijumewAndCo Happy new year mij!', 'Fantastisch dat ik zoveel vuurwerk hoor..... We worden echt wakker yes. En het boeit mij niet wat een ander er van denkt.\\\\nOp naar een Great Awakening en happy new year 😃🎉🙏❤️', 'Gelukkig nieuwjaar allemaal!!!! Binnen exact een maand ben ik jarig en ik hoop dat ik dan eindelijk birthdaySEX kan hebben xxx']\n"
     ]
    }
   ],
   "source": [
    "i = []\n",
    "for mess in all_messages:\n",
    "    if '' in mess:\n",
    "        i.append(mess)\n",
    "        \n",
    "print(len(i))\n",
    "print(i[0:5])"
   ]
  },
  {
   "cell_type": "code",
   "execution_count": 24,
   "metadata": {},
   "outputs": [],
   "source": [
    "# TODO: filter the related messages\n",
    "facemask_messages = []\n",
    "\n",
    "facemask_pattern = r\"mondkap|(mond)?masker|bekluier|beklap|\\bmask|muilkorf|facemask|face mask|monddoek|face shield|gelaats?scherm|gezichtsmasker|muilmasker|gezichtsbeschermingskapje|gezichtsschild|kap|eendenbek|gelaatsmasker|neus|mond|gezicht|hoest|nies|niezen|kuch|dragen|draag|medisch|aerosol|speeksel|longen|bescherm|1\\.5|1,5|anderhal[fv]|luchtweg|filter\"\n",
    "for message in all_messages:\n",
    "    if re.search(facemask_pattern, message.lower()):\n",
    "        facemask_messages.append(message)"
   ]
  },
  {
   "cell_type": "code",
   "execution_count": 7,
   "metadata": {},
   "outputs": [
    {
     "name": "stdout",
     "output_type": "stream",
     "text": [
      "18662 messages about facemasks\n"
     ]
    }
   ],
   "source": [
    "print(f\"{len(facemask_messages)} messages about facemasks\")"
   ]
  },
  {
   "cell_type": "code",
   "execution_count": 8,
   "metadata": {},
   "outputs": [
    {
     "data": {
      "text/plain": [
       "['Echt hè? Ik gedraag me wel hoor. Uiteraard. 😊Gelukkig nieuwjaar allemaal. 🥂🍾 https://t.co/yygsc07uc7',\n",
       " '@WilmadeJong1 @mariannezw @HellieS8 Precies. Mondkapje, binnen blijven,  en angst verzwakken je immuunsysteem. Langdurig gebruik van een mondkapje kan zelfs schimmels veroorzaken die diep in de longen gaan zitten. Gevolg longontsteking. Bij ouderen zeer gevaarlijk!',\n",
       " 'Kheb zoveel mooie outfits die ik ni heb kunne dragen door corona 🥺',\n",
       " '@Sandoka04120321 @BiancaLesman @telegraaf Dit moet stoppen!\\\\n\\\\n#GERRITSEN🗽 #PvdKB #TK2021🇳🇱 SAMEN STERK 👊\\\\n\\\\n#jeugdzorg #jeugdbescherming #school #onderwijs #rechtstaat\\\\n#ouders #kinderen #onrecht \\\\n#kindermishandeling #kindermisbruik #revolutie \\\\n#corona #covid #lockdown #mondkapjes #verkiezingen @PvdKB_ #neurenberg #rechten https://t.co/VfjAOP7tb9',\n",
       " '@RolandPierik @hugodejonge En daar is dus al die discussie over. Mondkapjes wel/niet, wie wel, wie niet, medisch/niet-medisch. Afstand houden, aerosolen, ventileren. Kerk en Ikea vs het sportveld. Scholen open, scholen dicht, etc, etc. Die regels zijn juist niet allemaal even voorstelbaar cq logisch.',\n",
       " '@waneijs 2het is een raar virus maar de mensen die er mee jn contact komen zijn niet besmet en dat is heel raar. En daarom weegt het niet op tegen het maatschappelijke en economische  leed wat er aangericht wordt. Mondkapjes en lock down werkt ook niet opengooien die boel',\n",
       " 'Bv: het afdwingen van invorderen van mondkapjes bij minister Bruins vlak voordat hij omviel. Leidde tot minder handel en tegenzin om aan Nederland te leveren. Invorderen moet je alleen doen als een product al hier is en de ander het weigert te leveren. Nog beter is: zelf maken.',\n",
       " 'Heb je het bont gemaakt tijdens de feestdagen? Om het af te leren vind je op ons Raamwerk de zeven hoofdzonden verbeeld door videokunstenaar Han Hoogerbrugge. Het werk ‘Masks of Folly’ (2020) is ook tijdens lockdown te zien bij het Nicolaaskerkhof. We wensen je een goed 2021!\\u2060 https://t.co/bSuhYhA7xN',\n",
       " '@MenrBen @keddilien Gelukkig hebben we de 1,5 mtr regel nog wel even 😶',\n",
       " '@telegraaf Knap dat ze voor die varkenskop een mondkapje hebben',\n",
       " 'KoWiWeerHut Schiedam\\\\n17h | Actueel weer\\\\n\\\\nWind: 0.8 m/s ZW\\\\nWindvlaag: 1.0 m/s\\\\nTemperatuur: 5.3 °C\\\\nRel. vochtigheid: 91 %\\\\nLuchtdruk: 1008.8 mbar\\\\nRegen: 1.5 mm\\\\nZon-instraling: 0 W/m²\\\\nUV index: 0 \\\\n\\\\nhttps://t.co/0m9uwayZA4\\\\n#Weathercloud',\n",
       " 'Telkens als ik mensen om mij heen hoor zeggen dat ze blij zijn dat het vaccin er binnenkort is en dat we daarna weer naar normaal kunnen, wordt mijn angst groter. Steeds groter\\\\nDatzelfde geldt voor al die mensen met mondkapjes.\\\\nZe denken beschermd te zijn of anderen te beschermen',\n",
       " '@filter_miss Jaaa morgen lekker niks doen, zondag thuis werken, maandag vrij en dan drie dagen werken en dan weer 4 dagen vrij 🤩',\n",
       " '@CouckeMarc @StopDarmkanker @SOPHiAGENETICS 🤞🤞🤞in 2020 van nabij meegemaakt. Detectie bij mijn zus via het darmonderzoek vanaf 50. Gelukkig enkel een operatie en geen nabehandeling. Dit onderzoek REDT LEVENS!!',\n",
       " '@JoostNiemoller Is er überhaupt bewijs wie het virus het meest verspreid en hoe het wordt verspreid? Komt dat wel door de minderheid die zich niet aan de regels houdt? Zoals het er nu naar uitziet werken mondkapjes en de 2 weken Lockdown niet.',\n",
       " \"Corona-Impfzentren: Für Ärzte eine Goldgrube. https://t.co/I7FKiYSZHG via @Politikstube \\\\n\\\\nGeld blijkt een prima smeermiddel om artsen zo ver te krijgen om de 'informend consent' met patiënten te geven... \\\\n\\\\nHet zijn de medische prostituees van de Duitse staat. \\\\n\\\\n#coronavaccin\",\n",
       " \"Gewapende #Overval op #Domino's pizza vrijdagavond om 22.00 uur. Waterlandplein #Amsterdam @noord020. 1 Dader donker getint gezet ong 30jr oud. Blauw trainingspak zw mondkapje en #mes. Zo'n #200 euro als buit. #Trainingspak en #geldbedrag in afvalbak aangetroffen. @Politie_Adam. https://t.co/4U40dh4tjX\",\n",
       " 'Bij Walmart hebbben ze software die mondkapjes in de gaten houdt. Bizar ! #BoycottWalmart',\n",
       " 'RT @NickyMonreau: Het bewijs dat de niet-werkzame #mondkapjes inderdaad niet werken\\\\n🤔🤨',\n",
       " 'Terwijl het volk in #lockdown thuis zit, vliegt de #elite naar warme, zonnige oorden... zoals Madonna naar Afrika. Mondkapjes niet nodig, met 20 man uiteten. Dansen, muziek maken!\\\\n\\\\nDe elite ziet zich als verheven boven de rest, en laat dat nu openlijk zien!',\n",
       " 'Wetenschap 2021 👇\\\\n1.Maskers stoppen geen virussen\\\\n2.Asymptomatic transmission bestaat niet\\\\n3.Gezonde mensen zijn gewoon gezond\\\\n4.Een virus is geen ziekte\\\\n5.Een ziekte is te wijten aan verzwakte immuniteit\\\\n6.Vroegtijdige behandeling voorkomt sterfte\\\\n7.Ivermectine voorkomt Covid19',\n",
       " 'Ja, ik werk soms in een wit plastic pak, mondkap bril en handschoenen ivm corona. Corona is echt en sucks. Ben alleen niet van plan me te laten volblaffen met een vaccin wat in 8 mnd in elkaar is geflanst. \\\\nMag dat zelf nadenken nog?',\n",
       " 'Telkens als ik mensen om mij heen hoor zeggen dat ze blij zijn dat het vaccin er binnenkort is en dat we daarna weer naar normaal kunnen, wordt mijn angst groter. Steeds groter\\\\nDatzelfde geldt voor al die mensen met mondkapjes.\\\\nZe denken beschermd te zijn of anderen te beschermen',\n",
       " 'Crin zegt het lief!\\\\nIk niet, krijg je vanzelf na 9 maanden lockdown, ik zeg NEEM VERDOMME JE VERANTWOORDELIJKHEID, BESCHERM JE KIND EN DE LEERKRACHTEN EN JEZELF EN HOU ZE VERDOMME THUIS ANDERS BEN JE EEN FUCKING USELESS LAFFE KLAPHARK!\\\\nZo. Dat is eruit.',\n",
       " '@DouwPien Ook na de vaccinaties blijven de maatregelen zoals mondkapjes dragen en afstand houden nog van kracht. Dat feest kun je dus vergeten. https://t.co/sVclqh955W',\n",
       " '@alfagrl Anderhalve meter seks.. het heeft wel iets..',\n",
       " 'Feiten:\\\\nCorona is géén killervirus\\\\nPCR test is geen diagnosemiddel\\\\nMondkapjes werken niet, gedragsbeïnvloeding blijkbaar wel\\\\nEr zijn werkende medicijnen voor corona\\\\nVaccin is slechts een éxtra maatregel\\\\nEn tóch wil Hugo de J advies over vaccinatiepaspoort\\\\n#coronahoax\\\\nbronnen👇',\n",
       " '@ChageNijn Collega deed moeilijk gisteravond in mijn auto:\\\\nWaarom moet ik een masker op als jij er al een draagt?\\\\n\\\\nIk zeg \"goed punt\" en doe de koplampen uit.\\\\nHij in paniek: wat doe je nou? Het is hartstikke donker !\\\\n\\\\nIk: rustig maar, alle anderen hebben hun koplampen al aan!!',\n",
       " 'Terwijl het volk in #lockdown thuis zit, vliegt de #elite naar warme, zonnige oorden... zoals Madonna naar Afrika. Mondkapjes niet nodig, met 20 man uiteten. Dansen, muziek maken!\\\\n\\\\nDe elite ziet zich als verheven boven de rest, en laat dat nu openlijk zien!',\n",
       " 'Corona virus komt waarschijnlijk elk jaar terug, net zoals griep virus. Gaan we dan tot einde der tijden met maskers rondlopen ? Horeca gesloten en vervangen dr take-away ? Stop de corona hysterie onzin',\n",
       " 'Hamfamily\\\\n13h | Actueel weer\\\\n\\\\nWind: 4.7 km/h ZZW\\\\nWindvlaag: 7.9 km/h\\\\nTemperatuur: 3.3 °C\\\\nRel. vochtigheid: 98 %\\\\nLuchtdruk: 1011.5 mbar\\\\nRegen: 0.4 mm\\\\nZon-instraling: 69 W/m²\\\\nUV index: 0 \\\\n\\\\nhttps://t.co/d18Jn8Mi2y\\\\n#Weathercloud',\n",
       " 'Ben buiten met een spuitbus verf aan de gang en Leslie moet de hele tijd niezen van de geur dus nu loopt ze steeds met een enorm overdreven grote boog eromheen hahahaha gelukkig nu geen kans op een groene hond',\n",
       " 'Vindt het @AObtweets-bestuur mondkapjes maar schijnveiligheid bieden? Of zitten er antivaxxers in het bestuur? Want dit klopt gewoon niet. Waarom hebben jullie nooit onomwonden voor veilige scholen gepleit?',\n",
       " 'Corona geen \"killer\" virus. Recent cijfer vr kans op sterven bij infectie is amper 0,05% vr minder dan 70 jr en 0,23% vr ganse populatie (WHO)Vergelijkbaar met zware griep. Enkel gevaarlijk vr 75+ met bestaande ziektes. Bescherm zwakke groep, rest normaal.\\\\nhttps://t.co/FErHkYI01V',\n",
       " 'En morgen allemaal weer een muilkorf op? Ik dacht ‘t effe niet. Einde lockdown Fuck’t nieuwe normaal! Genoeg is genoeg! #WWG1WGAWORLDWIDE  #HAPPYNEWYEAR',\n",
       " 'Terugblik 2020. Vooruitblik 2021. https://t.co/jeB1wth1Gp via @YouTube Wat staat ons te wachten in #2021NewYear duidelijk uitgelegd en neem vooral ook een kijkje op de website !#Vaccin #coronapaspoort #mondkapjes',\n",
       " '@_padvinder “Als ik me aan de regels had gehouden zat ik nu in een instelling” LETTERLIJK IEDEREEN IS DEPRESSED DOOR DE PANDEMIE???? Maar wij gaan ons ook niet egoïstisch gedragen om die reden??? Ik snap deze mentaliteit echt niet. Dit is waarom we nog steeds in lockdown zitte.',\n",
       " 'Net even 10 km gewandeld. Schijnt ontspannend te zijn maar toen ik thuis kwam had ik echt zin om iemand helemaal kapot te maken. Ja Gerda, je kan best wel even achter elkaar fietsen als je mij passeert. En Henk, je krijgt de groeten van An, Anderhalve meter lul! Met je gore zweet https://t.co/laOYKMuTxp',\n",
       " 'Fietsen jullie ook wel eens met mondkapje op? Krijg het benauwd als ik het zie',\n",
       " '@geertwilderspvv @telegraaf Wat wel duidelijk is geworden is dat het alleen IgG activeert en geen IgA. Dus het doorbreekt de transmissie keten niet. De gevaccineerde is dus niet beschermd tegen het virus, echter zal niet zo snel ernstig ziek worden. \\\\n2/3',\n",
       " '@HJWesteneng Er is een groot lek in onze lockdown. Vanaf maandag gaan alle examenkandidaten weer naar school. Met 20-30 in een lokaal, onbeschermd, docent erbij eveneens onbeschermd. En dat 8-12 klassen per school/gebouw. Afstand houden hoeft niet en kan ook niet.@arieslob en @VO_raad :-(((',\n",
       " 'hoezo respect voor die Gestapo die zich #Politie noemt   ..   Politie geeft boete aan de deur: U droeg geen mondkapje in de supermarkt... https://t.co/yMUGe8Olqg via @YouTube',\n",
       " 'Corona virus komt waarschijnlijk elk jaar terug, net zoals griep virus. Gaan we dan tot einde der tijden met maskers rondlopen ? Horeca gesloten en vervangen dr take-away ? Stop de corona hysterie onzin',\n",
       " '@jetskefoto Wist je dat:\\\\nCorona is géén killervirus\\\\nPCR test deugt niet\\\\nMondkapjes werken niet\\\\nEr zijn werkende medicijnen voor corona\\\\nHet vaccin is slechts een éxtra maatregel ipv dat je weer teruggaat naar normaal ;) \\\\nHugo de J wil advies over vaccinatiepaspoort https://t.co/7r3JVJsFq3',\n",
       " '@de_Kapitein_ @nee_coro @arjentikt @arnoldus_ted @viruswaarheid @Zxlfbeschikking @Gerritsen_Dan @JACKenWODAN2 @JDTVproducties @hetverzetnl Maar mondkapjes zijn toch verplicht bij de supermarkt?',\n",
       " 'RT @macflagstaff: Politie geeft boete aan de deur: U droeg geen mondkapje in de supermarkt... https://t.co/NpZhD6LWC7',\n",
       " '@Samira_Tarrass Dus voelt hij zich comfortabel in het bijdragen aan een tweedeling van de maatschappij en het mee helpen creëren van 1e en 2e rangs burgers? Uiterst bijzonder ook dat ik niemand meer hoor over het beschermen van de kwetsbaren, maar alleen nog over voordeeltjes 🤔🤔🤔',\n",
       " 'RT @macflagstaff: Politie geeft boete aan de deur: U droeg geen mondkapje in de supermarkt... https://t.co/NpZhD6LWC7',\n",
       " '@Nienkekapinga @bslagter @huisdoktertim Je mag nog steeds met 2 personen afspreken en dat hoeven niet steeds dezelfde personen te zijn. In een week kun je dus behoorlijk wat “wisselende contacten” hebben en als dat bij anderen ook zo is, dan kan het virus zich nog best goed verspreiden.',\n",
       " \"Dit is helaas geen goede reclame voor de #politie. Want de #mondkapjesplicht is juridisch zo lek als een mandje. Onzinmaatregel. 'Politie geeft boete aan de deur: U droeg geen mondkapje in de supermarkt - 02/01/21' https://t.co/IbtheGKyN3 #covid19nl #coronamaatregelen\",\n",
       " '@EenNederland @DustinWindt @Hansla @BertThonissen @LiesbethMallee @Voetbalisgeloo1 PCR test kan geen Coronabesmetting aantonen. De “foute positieven” PCR test toont een viraal deeltje in het neusslijmvlies aan, zoals o.a. een onschuldig verkoudheidsvirus.',\n",
       " 'Vervolg op de vorige tweet.\\\\nTweet 4:\\\\nEen neurologe licht toe welke schade kan optreden bij het dragen van een mondkapje. https://t.co/6NWkXqObS0',\n",
       " '@JoostNiemoller Wel kort door de bocht Joost. Ook na het vaccin is nu nog niet bekend of je de besmetting toch over kunt brengen. Daarom blijft mondkap en 1,5 mtr verplicht. Men weet zelfs niet hoelang het vaccin werkt. Men denkt 2a3mnd. Fase4 is nooit gedaan, dus veel moet nog duidelijk worden.',\n",
       " '@WybrenvanHaga En dan ben je na vaccinatie niet immuun en kun je het nog steeds overdragen. Mijn zorg is je voelt je dan misschien niet ziek maar besmet je tegelijkertijd iedereen toch om je heen. In de huidige situatie had je je laten testen en bleef je thuis Dus is dit wel de juiste oplossing',\n",
       " 'Vervolg op de vorige tweet.\\\\nTweet 1:\\\\nDeze meneer heeft conclusies uit studies voorgelezen over mondkapjes. Daarna komt een neurologe en zij licht toe welke schade kan optreden bij het dragen van een mondkapje. https://t.co/EwD9IGds1J',\n",
       " 'Zelfs ‘n wetenschappelijk onderzoek van de @WHO naar het nut/bescherming van mondkapjes, waarvan de uitkomst al bekend was in sept j.l. werd door Europa en ook in NL niet opgepakt. Sterker nog, mondkap per 1/12 verplicht! @rivm @hugodejonge Zie bron.  https://t.co/ypj3CHFinb',\n",
       " '@Jaycee__1973 Ik lees met mond open deze discussie. Ik val regelmatig (onbedoeld, per ongeluk) zonder mondkapje jumbo of AH binnen. Niemand spreekt mee aan of kijkt zelfs vervelend naar me. Denk dat per wijk, stad, verschillend is.',\n",
       " '#Vermist Suisunaila Leyba (20) vanuit #Zaandam sinds 1-1-2021.\\\\nSuisunaila is 1.65m, draagt een zw. trainingsbr., een lichtgr. vest en roze slippers. Verder heeft Suisunaila paars/bl. dreads met eigen haarkleur er doorheen.\\\\n\\\\nInfo: https://t.co/jIV7qRpIi8\\\\n\\\\nTips? ☎️ 0900-8844\\\\n\\\\nRT=👍 https://t.co/HgWz9VZJvu',\n",
       " '@that_standius @kluizelaar @Jetje33 @robertpijkeren Met je mondkapje.. .mafklapper. och jee.. wappie. Heb je je afgetrokken op het filmpje  van youp?',\n",
       " '@2deKamerFVD Mijn zoon woont en studeert in China. In Shanghai leidt hij een volkomen normaal leven. Geen 1,5 meter afstand,  geen mondkapjes, horeca en alles gewoon open. Hij kan zich niet voorstellen wat hier in Europa gaande is.',\n",
       " \"Niet dat jullie dit willen weten, maar; glory holes werken niet met mondkapjes. Dus homo's op zoek naar een snelle kinky fix worden echt zwaarder getroffen. Iets waar ik het @COCNederland nog niet over heb gehoord.\",\n",
       " '@WybrenvanHaga Ooit voet op corona afdeling gezet? Of ic, verpleeghuis afdeling? Nee? ..graag mondNeusmasker op! Klagen is makkelijk, doe zelf iets nuttigs en geen stemmingmakerij. Kook soep voor buren, beter neem kooklessen allen van uw partij. Maak evt partner blij..',\n",
       " 'RT @stopumts: AH medewerkers worden fysiek tegen man zonder mondkapje - 02/01/21 https://t.co/a291Qks92T via @YouTube',\n",
       " '@JoostNiemoller Mondkapje of geen mondkapje. Prik of geen prik. Iedereen mag daar een mening over hebben en ik laat iedereen in zijn waarde. De stelling dat gevaccineerde meer zouden mogen (moeten kunnen) riekt naar chantage. Ik neem voorlopig geen prik en heb daar mijn reden voor. Doei Joost.',\n",
       " '@de_Kapitein_ @Burgerfront1 @nee_coro @arjentikt @arnoldus_ted @viruswaarheid @Zxlfbeschikking @Gerritsen_Dan @JACKenWODAN2 @JDTVproducties @hetverzetnl https://t.co/TNm1igPePf\\\\n\\\\nMocht het tot een boete komen. Je kan het zelf aanvechten of inbrengen in 1 grote zaak, deze advocaat verzet zich principieel tegen de plicht en is op zoek naar mensen die in verweer willen gaan tegen een boete en wil er een grote zaak van maken.',\n",
       " 'Volgens onderzoek is de effectiviteit van t vaccin 95%!ieder mens die zich wil laten vaccineren kan dat doen, dan zijn ze voor 95% beschermd.Degene die dit niet willen, doen dit niet, de meesten zijn zonder vaccin ook al 99%beschermd dh immuunsysteem, dan zijn we er toch!?',\n",
       " '@TAART3N @PGemengd @torfsrik Heeft u echt de indruk dat slechts 2% de regels niet naleeft? Als u naar de winkel gaat, ziet u dat bijna iedereen zijn handen reinigt? Bijna iedereen in zijn eentje gaat? U geen moment dichter dan anderhalve meter komt? Bijna iedereen bij het verlaten wederom zijn handen reinigt',\n",
       " 'NIJMEGEN: Nijmegen Centrum. Politie zoekt: man, getint, 170 cm, blw jas en blw spijkerbroek, mondkapje, 35 jr,  kleine zwarte rugzak. \\\\nTips? 112 https://t.co/hUBsfn4Nel',\n",
       " 'Willen diegene die het vaccin weigeren mij eens uitleggen hoe zij 2021 zien? Gaan we door zoals in 2020? Van de ene lockdown naar de andere? De horeca etc. nooit meer open? Een leven met mondkapjes? Bedrijven kapot gaan? Voor altijd 1,5 meter? Willen jullie dat? #eensmetJoost',\n",
       " 'Zeg @Politie wees gehoorzaam en draag een mondkapje. Als je ziek wordt, mij een zorg.\\\\n\\\\nMAAR:\\\\nAls je aan het stuur zit en je krijgt zuurstof gebrek, reageer je niet meer goed en veroorzaak je een ongeluk waar ANDEREN het slachtoffer zijn.\\\\n\\\\nWil je svp even NADENKEN\\\\n\\\\n@teamverkeernh',\n",
       " '@torfsrik Wat als we nu eens stoppen met naar het aantal besmettingen te kijken. Testen geven 97% valse pos!!! Wat een giller. Hoeveel mensen zijn er bvb in NL gestorven in 2020? # doden over tot bevolking staat op HISTORISCH DIEPTEPUNT! Waarom dan lockdowns en vieze ongezonde mondvodden??',\n",
       " '@LuizdulaPelz @frankwijn1 We beschermen u met een vaccin maar wat er na 2 maanden gebeurt weten we niet en bij het testen hebben we aĺeen gezonde mensrn zonder ondrliggend lijden in het cohort gehad',\n",
       " 'Als ge dit weekend iéts leest in een gazet, laat het Paleis der Natie zijn, van @cauwelaert \\\\nOverheid heeft maar één taak:\\\\nHet vertrouwen herstellen.\\\\n\\\\nIn plaats van de mensen uit te lachen omdat ze naar de kapper willen of in plaats van wat te prutsen aan de vaccindoses. https://t.co/a0x8Pwq6IK',\n",
       " '@moeva18 Je neemt een vaccin ALLEEN voor jezelf. Als het werkt voorkomt het symptomen zodat niemand weet dat je een wolf in schaapskleren bent, en anderen besmet. Oh,dat is de bedoeling? Ook heeft 3% na vaccin medische zorg nodig. Aso om hen te belasten. En op oud en ziek is niet getest. https://t.co/ONwon8wkV7',\n",
       " 'RT @christmbg: Er was een tijd waar we geen mondkapjes droegen ptn das precies 100 jaar geleden',\n",
       " 'RT @chamwamba: Er is uiteraard geen enkele twijfel. Ik bescherm graag mezelf en anderen. #ikwildieprik #IkPrikHetWel #ikvaccineer',\n",
       " '@MarliesKdG De zorgsector vaccineren is niet voor het beschermende muurtje maar puur dat we genoeg handen aan bed en artsen hebben. Wat logisch is. Crisissen kun je alleen bestrijden met de mensen die de crisis bestrijden. Als die wegvallen is de ramp niet te overzien.',\n",
       " '@MrsMartine Ik deed het ook in quarantaine gewoon zelf, en dan maar met mondkapje op. Blijft iedereen vanzelf bij je uit de buurt!',\n",
       " '@GielenEllis Echt dapper. Binnen de anderhalve meter overleeft geen virusdeeltje, joh! https://t.co/OEBGwBElKb',\n",
       " '@Entrepreneurix Ze zien niet dat het een palet aan maatregelen is wv een kapje er slechts eentje is. Naast de anderhalve meter, ventilatie, lange/korte tijd in een ruimte met iemand zitten enz. \\\\nEn dat kapje. Hier al lang verplicht. Als ik m in een week in totaal een half uur op heb is t veel.',\n",
       " 'Ik hoor nogal wat tegenstrijdige berichten via #smartschool en er rond over verplicht dragen van #mondmaskers voor 5de en 6de leerjaar. Hoorde ik @benweyts gisteren niet op #vtmnieuws dat dit enkel zou worden overwogen indien cijfers verkeerde richting uitgaan? \\\\n#iemand?',\n",
       " '@slechteslaper Het is wel geinig hoor. Alleen in de eerste lockdown ging ie maar tot een bepaald aantal punten. Dat was een beetje jammer.... Toen er weer af gegooid en nu 1,5 maand geleden maar weer opnieuw begonnen🤣',\n",
       " '@JvanderAa3 @erikvmuiswinkel Zeg dat even tegen die demonstranten die na afloop zonder mondkapje bij mij in de bus stapten. Idioot gedrag!',\n",
       " 'ondertussen worden kinderen v@rkr@cht, maar who cares ??? mondkapjesplicht, heel belangrijk, solidariteit, we doen het voor de zorg, zodat ze kunnen dansen https://t.co/sVwbqRbZT0',\n",
       " 'Ah, na de acute zorg krijgen nu ook de huisartsen voorrang. Wie nog meer? Er kan nog meer bij. Leraren? Supermarktmedewerkers? Mondhygiënisten? Mensen onder de 25? Iedereen behalve de jongere kwetsbaren een vaccin! \\\\n#Sarcasme #IkWilDiePrik',\n",
       " \"Verwacht wordt dat 100 bussen, 30.000 auto's en 1,5 miljoen mensen op 6 januari naar Washington gaan, mogelijk meer ... 🥳😊❣️\\\\nhttps://t.co/8MwFiLjSwH\",\n",
       " 'Een draadje over de dominantie van nieuwe coronavarianten, reproductiegetal, de sterfte door een variant die besmettelijker is, en de NLse situatie.\\\\n\\\\nSpoiler: 18 januari wordt de ergste Blue Monday ooit👇',\n",
       " '@Bullshit_vs_Lie @YorickB Mondkapjes kun je niet isoleren uit die cijfers: er zijn zoveel maatregelen tegelijkertijd dat dit lastig wordt. Effect lockdown kristalliseert over een week denk ik (zie uitleg in bovenstaand draadje).',\n",
       " '@Janjans89689254 @NUnl Waar zie jij dat dan? Want ik zie op geen ene foto mondkapjes of 1,5 meter afstand?',\n",
       " '@_j3lena_ @edwinveldhuizen @Houdafstand @1philosophizer @NiewFreek Is het overigens niet zo dat net als de discussie bij de leraren/scholen hier ook de arbowet van toepassing is dat een werkgever er alles aan moet doen om de werkplek (zo) veilig (mogelijk) te maken? Waarmee feitelijk het niet aanbieden van betere bescherming tegen de wet is?',\n",
       " 'https://t.co/XzATFpqYP4 In @haarlem is geen Corona, hieperdepiephoera   ! #Wappies #Anderhalvemetersamenleving #WAarDan? #MondkapjeWaarDan #ZiekWorden? #EigenVerantwoording',\n",
       " 'De onbetrouwbaarheid vd PCR-test maakt dit hele idee überhaupt al onzinnig. Nog los van de principiële bezwaren. What’s next? Niemand met griep meer het land in? Medisch onderzoek op Schiphol? Terwijl de massale immigratie v kansarme moslims zogenaamd niet te stoppen zou zijn... https://t.co/e39txP6z7j',\n",
       " 'Vroeger gewoon zo tikkie ...en nu dit...\\\\nEn nog vertellen de dwazen van mondkapjes in Nederland het komt goed vertrouw op Mark Rutte. https://t.co/IHcJUPUqrH',\n",
       " 'Heeft u ooit iemand vh kartel horen zeggen dat wie corona heeft gehad of ‘n “vaccin” heeft laten inspuiten weer vrij mag? Nee. Want we gaan naar ‘n “nieuw normaal”. Voor altijd. Het “vaccin” is hoepeltje waar ze ons doorheen laten springen. Ook daarna blijft 1.5m, mondkapjes, etc',\n",
       " 'Heeft u ooit iemand vh kartel horen zeggen dat wie corona heeft gehad of ‘n “vaccin” heeft laten inspuiten weer vrij mag? Nee. Want we gaan naar ‘n “nieuw normaal”. Voor altijd. Het “vaccin” is hoepeltje waar ze ons doorheen laten springen. Ook daarna blijft 1.5m, mondkapjes, etc',\n",
       " '@thierrybaudet Sterker nog,\\\\nAerosolen kijken niet naar 1.5 meter afstand houden en mondkapjes!\\\\n\\\\nBovendien bij het dragen van die mondkapjes voelt men zich veiliger en gaan daardoor zelfs minder afstand nemen!🤦\\u200d♂️\\\\n\\\\nHet enige wat wel werkt is de juiste manier van ventileren!\\\\nZie @mauricedehond https://t.co/3R91lV2x9Z',\n",
       " 'Heeft u ooit iemand vh kartel horen zeggen dat wie corona heeft gehad of ‘n “vaccin” heeft laten inspuiten weer vrij mag? Nee. Want we gaan naar ‘n “nieuw normaal”. Voor altijd. Het “vaccin” is hoepeltje waar ze ons doorheen laten springen. Ook daarna blijft 1.5m, mondkapjes, etc',\n",
       " 'Heeft u ooit iemand vh kartel horen zeggen dat wie corona heeft gehad of ‘n “vaccin” heeft laten inspuiten weer vrij mag? Nee. Want we gaan naar ‘n “nieuw normaal”. Voor altijd. Het “vaccin” is hoepeltje waar ze ons doorheen laten springen. Ook daarna blijft 1.5m, mondkapjes, etc',\n",
       " 'Heeft u ooit iemand vh kartel horen zeggen dat wie corona heeft gehad of ‘n “vaccin” heeft laten inspuiten weer vrij mag? Nee. Want we gaan naar ‘n “nieuw normaal”. Voor altijd. Het “vaccin” is hoepeltje waar ze ons doorheen laten springen. Ook daarna blijft 1.5m, mondkapjes, etc',\n",
       " '@Elisa59 https://t.co/wFgJ4mOuA0\\\\n\\\\nRutte is evil \\\\nBizar deze acties\\\\n\\\\n@PieterOmtzigt hoe haal je het in je hoofd?\\\\nPCR is fraude de basis van alle leugens\\\\n\\\\nKabinet wil ons dus kapot maken?\\\\n@WybrenvanHaga\\\\n@pieterkleinrtl\\\\n\\\\nDit is een oorlogsverklaring aan ons!\\\\n\\\\nhttps://t.co/OoFgQLUPgf',\n",
       " 'Heeft u ooit iemand vh kartel horen zeggen dat wie corona heeft gehad of ‘n “vaccin” heeft laten inspuiten weer vrij mag? Nee. Want we gaan naar ‘n “nieuw normaal”. Voor altijd. Het “vaccin” is hoepeltje waar ze ons doorheen laten springen. Ook daarna blijft 1.5m, mondkapjes, etc',\n",
       " '@MAXmeldpunt Heb jullie nu al iets aan je foute covidpreventie bij heel holland bakt gedaan. Een plastic pingpong badje voor je gezicht houden is dus niet covidproof, integendeel, het is zeer onveilig maar vooral foute voorlichting. #hhb \\\\nAnderhalve meter afstand is de regel en mondkapje',\n",
       " \"Bizarre video: viruswappie krijgt politie aan deur wegens niet dragen mondkapje in Lidl\\\\n'Ze horen Rutte en de bankiers op te pakken!'  https://t.co/9B7idsAm8w\",\n",
       " 'Heeft u ooit iemand vh kartel horen zeggen dat wie corona heeft gehad of ‘n “vaccin” heeft laten inspuiten weer vrij mag? Nee. Want we gaan naar ‘n “nieuw normaal”. Voor altijd. Het “vaccin” is hoepeltje waar ze ons doorheen laten springen. Ook daarna blijft 1.5m, mondkapjes, etc',\n",
       " \"IN WINTER VAN 2017-2018 STIERVEN 9.500 MENSEN AAN DE GEWONE GRIEP NET ALS JAREN ERVOOR!! ER WAREN GEEN LOCKDOWNS/MONDKAPJES/SCHOLEN DICHT ENZ! NU IS GRIEP ''VERDWENEN'' +ZITTEN WE MET 0,3% OF STERFTE DOOR CORONA,NET ALS MET GRIEP!! WORD WAKKER SVP! @WybrenvanHaga @thierrybaudet\",\n",
       " '@erikvmuiswinkel @BastiaanRagas die toen burgemeester Wienen bedreigd werd, collectief opstonden tegen intimidatie van een burgemeester, die bekend staat als crime fighter. Demonstreren is prima &amp; een grondrecht, maar zijn talloze voorbeelden waar dat met 1.5 m (cirkels), mondkapjes, respectvol ging. Dit niet.',\n",
       " 'Heeft u ooit iemand vh kartel horen zeggen dat wie corona heeft gehad of ‘n “vaccin” heeft laten inspuiten weer vrij mag? Nee. Want we gaan naar ‘n “nieuw normaal”. Voor altijd. Het “vaccin” is hoepeltje waar ze ons doorheen laten springen. Ook daarna blijft 1.5m, mondkapjes, etc',\n",
       " '@Opinieleader Rutte gaat alles kapot maken en was daar al jaren mee bezig\\\\nCojona is wapen tegen democratie en burgers\\\\ner is geen killervirus\\\\nlockdown is strafbaar! @gjknoops \\\\nalle rechten zijn ons afgenomen\\\\n\\\\ndit mag helemaal niet!\\\\n\\\\nga naar buiten en knuffel elkaar\\\\niedereen is gezond! https://t.co/2vzqKi5I1m',\n",
       " \"Gevederde coronadoden... https://t.co/ht8vOXBppC via @erwinkompanje \\\\n\\\\nAch... Zo'n gedragsexperimentje van @MinPres en @hugodejonge, het mag wat kosten...\\\\n\\\\n#coronamaatregelen #mondkapjesplicht\",\n",
       " 'Heeft u ooit iemand vh kartel horen zeggen dat wie corona heeft gehad of ‘n “vaccin” heeft laten inspuiten weer vrij mag? Nee. Want we gaan naar ‘n “nieuw normaal”. Voor altijd. Het “vaccin” is hoepeltje waar ze ons doorheen laten springen. Ook daarna blijft 1.5m, mondkapjes, etc',\n",
       " 'Heeft u ooit iemand vh kartel horen zeggen dat wie corona heeft gehad of ‘n “vaccin” heeft laten inspuiten weer vrij mag? Nee. Want we gaan naar ‘n “nieuw normaal”. Voor altijd. Het “vaccin” is hoepeltje waar ze ons doorheen laten springen. Ook daarna blijft 1.5m, mondkapjes, etc',\n",
       " 'Heeft u ooit iemand vh kartel horen zeggen dat wie corona heeft gehad of ‘n “vaccin” heeft laten inspuiten weer vrij mag? Nee. Want we gaan naar ‘n “nieuw normaal”. Voor altijd. Het “vaccin” is hoepeltje waar ze ons doorheen laten springen. Ook daarna blijft 1.5m, mondkapjes, etc',\n",
       " 'Heeft u ooit iemand vh kartel horen zeggen dat wie corona heeft gehad of ‘n “vaccin” heeft laten inspuiten weer vrij mag? Nee. Want we gaan naar ‘n “nieuw normaal”. Voor altijd. Het “vaccin” is hoepeltje waar ze ons doorheen laten springen. Ook daarna blijft 1.5m, mondkapjes, etc',\n",
       " \"Verwacht wordt dat 100 bussen, 30.000 auto's en 1,5 miljoen mensen op 6 januari naar Washington gaan, mogelijk meer ... 🥳😊❣️\\\\nhttps://t.co/8MwFiLjSwH\",\n",
       " 'Heeft u ooit iemand vh kartel horen zeggen dat wie corona heeft gehad of ‘n “vaccin” heeft laten inspuiten weer vrij mag? Nee. Want we gaan naar ‘n “nieuw normaal”. Voor altijd. Het “vaccin” is hoepeltje waar ze ons doorheen laten springen. Ook daarna blijft 1.5m, mondkapjes, etc',\n",
       " 'Heeft u ooit iemand vh kartel horen zeggen dat wie corona heeft gehad of ‘n “vaccin” heeft laten inspuiten weer vrij mag? Nee. Want we gaan naar ‘n “nieuw normaal”. Voor altijd. Het “vaccin” is hoepeltje waar ze ons doorheen laten springen. Ook daarna blijft 1.5m, mondkapjes, etc',\n",
       " 'Heeft u ooit iemand vh kartel horen zeggen dat wie corona heeft gehad of ‘n “vaccin” heeft laten inspuiten weer vrij mag? Nee. Want we gaan naar ‘n “nieuw normaal”. Voor altijd. Het “vaccin” is hoepeltje waar ze ons doorheen laten springen. Ook daarna blijft 1.5m, mondkapjes, etc',\n",
       " \"Krantenoverzicht 3-1-2021 #Oogopmorgen: gevaarlijke vaccin-diplomatie door China en Rusland, 'carbiedje-akkefietje-inzamelingsactie' in Joure, Tesla is 700 miljard dollar waard en Elon Musk is nu schathemelrijk en fietshelm dragen scheelt jaarlijks 85 doden en 2500 gewonden.. https://t.co/8fojEUm4JF\",\n",
       " \"Verwacht wordt dat 100 bussen, 30.000 auto's en 1,5 miljoen mensen op 6 januari naar Washington gaan, mogelijk meer ... 🥳😊❣️\\\\nhttps://t.co/8MwFiLjSwH\",\n",
       " '6. Voordat er corona was, waren gezichtsbedekkende kleding in openbare ruimtes verboden. Je kiest zelf wat je aantrekt in publieke ruimtes.',\n",
       " 'RT @NickyMonreau: Ik kan niet wennen aan mensen met #mondkapjes...\\\\n\\\\nHet heeft iets crimineels, struikroversachtig! https://t.co/dwNberAUKK',\n",
       " '@AnonPanic @RealAdviceDuck @artriple @NOS Terwijl Biden in zijn kelder zat, met mondkapje. Zijn hond 🐕 te melken.',\n",
       " 'We hadden het over mondkapjes maar jij begint over bewijs voor de 1,5 m afstand.',\n",
       " '@Chasalin @erikvmuiswinkel Ha een mondkapjes profiel',\n",
       " 'Dijkhuizen\\\\n7h | Actueel weer\\\\n\\\\nWind: 2.2 km/h WNW\\\\nWindvlaag: 3.6 km/h\\\\nTemperatuur: 3.2 °C\\\\nRel. vochtigheid: 96 %\\\\nLuchtdruk: 1031.7 hPa\\\\nRegen: 1.5 mm\\\\nZon-instraling: 0 W/m²\\\\nUV index: 0 \\\\n\\\\nhttps://t.co/GHWkiQqmZ8\\\\n#Weathercloud',\n",
       " 'Ons land telt 200.000 eindexamenkandidaten vmbo-havo-vwo; 16-19 jaar. Men verwacht hen vanaf morgen op onze scholen, ondanks lockdown.\\\\n\\\\n@MinOCW stelt geen voorwaarden t.a.v *1,5m afstand*, *mondmaskers in de klas*, *volle klassen*, *ventilatie*.\\\\n\\\\nGaat dit vanzelf goed, @ArieSlob?',\n",
       " 'Heeft u ooit iemand vh kartel horen zeggen dat wie corona heeft gehad of ‘n “vaccin” heeft laten inspuiten weer vrij mag? Nee. Want we gaan naar ‘n “nieuw normaal”. Voor altijd. Het “vaccin” is hoepeltje waar ze ons doorheen laten springen. Ook daarna blijft 1.5m, mondkapjes, etc',\n",
       " '#bossen, dat we vooral #inheems. willen voor de #biodiversiteit. snap ik, maar waarom een eenzame Larix kappen? Dat bied toch geen extra, maar maakt het juist armer. Waarom @Natuurmonument? Foto vanochtend in het #Deelerwoud. genomen. https://t.co/10gqIBopYK',\n",
       " '@MarcelTang @NOS Vraag ik me al tijden af... Hoe is het mogelijk dat we aan de ene kant steun verlenen en aan de andere kant (soms enorme) winstverhogingen agv Corona toelaten. Daar klopt toch geen anderhalve meter van.',\n",
       " 'Voorspelling 2021 viroloog Niesters: volgende kerst normaal vieren https://t.co/mmzp29D8f5',\n",
       " '👍 on @YouTube: Dutch Digger belt RIVM over mondkapjes https://t.co/uITsldCHGd',\n",
       " '@TonnVan @JoostNiemoller Niet medisch mondkapje houdt aerosolen tegen en niet in heel droge lucht vallen aerosolen naar beneden binnen 1,5 meter. Je moet dus geen mondkapje op een tafel leggen e.d..',\n",
       " 'Vandaag is het de eerste dag van de solden. Zak jij af naar de winkelstraten om koopjes te doen? Doe het veilig. Hou voldoende afstand &amp; draag een mondmasker. Winkel alleen. https://t.co/U2B7dQIJ8q',\n",
       " 'UPDATE 15-12❗️\\\\nWij zijn alleen op afspraak OPEN, en we hanteren STRIKTE REGELS (voor uw en onze gezondheid), als u belt worden die u uitgelegd.\\\\n\\\\nDenkt u eraan,het mondkapje is VERPLICHT !\\\\n\\\\n‼️U KUNT OOK WEER ONLINE  AFSPRAKEN MAKEN‼️\\\\n\\\\nhttps://t.co/kpaH0RrQyX #Baarn #Soest #Eemdijk',\n",
       " 'Ik deel ‘m nog maar een keer....\\\\n\\\\n10 maanden, lockdowns, 1,5 meter, mondkapjes, ouderen eenzaam opgesloten, angst campagnes, propaganda enz\\\\n\\\\nWanneer doorzie je de conditionering, gaslighting en manipulatie?',\n",
       " '@thierrybaudet Bij het WHO en RIVM is er twijfel of de anderhalve meter met mondkap samenleving na vaccinatie wel of niet voortgezet moet worden...Dus wij gaan in het najaar zien, gezien het vaccin drie maanden nodig heeft eer deze effectief is...',\n",
       " '@alexanderdecroo Waarom wordt er geen rekening gehouden met baby-gezinsfotografen? Zij mogen sinds december terug werken. Maar kunnen gn afstand houden en de mondmaskers van de klanten moeten uit voor de foto. Niet verantwoord. Wij hebben meer contact met onze klanten dan kappers',\n",
       " '4 Januari 12:23 : Live v/h Strandje (Sjimmie): zwaar bewolkt, geen strandweer, geen bezoekers, watertemp. 2,2 gr. , Coronavirus: Vermijd drukte, houd 1,5 meter afstand.',\n",
       " \"Alle taxi en buschauffeurs even opgelet. De politie hoeft niet alleen geen mondkapje op ze mogen zelfs zingen in de auto met bijrijder. Politieagenten kunnen natuurlijk niet besmet raken en besmettelijk zijn. Of weten zij wat de werkelijke risico's zijn.\\\\n\\\\nhttps://t.co/WnIt7wqs6L\",\n",
       " '@Su_SundayMonday Single mom 🙋🏽\\u200d♀️ Doen mijn tieners allemaal zelf, gelukkig. En erg blij dat het perfect geregeld is bij hun scholen, ze vinden het heel erg leuk en loopt op rolletjes. Ontzettend veel waardering voor de inzet, flexibiliteit en creativiteit van de leerkrachten.',\n",
       " \"Alle taxi en buschauffeurs even opgelet. De politie hoeft niet alleen geen mondkapje op ze mogen zelfs zingen in de auto met bijrijder. Politieagenten kunnen natuurlijk niet besmet raken en besmettelijk zijn. Of weten zij wat de werkelijke risico's zijn.\\\\n\\\\nhttps://t.co/WnIt7wqs6L\",\n",
       " '@elydewaal @martwinducati @NOS Er is al aangegeven door hugo dat dat niet gaat gebeuren. 1,5m en mondkapjes etc blijft gewoon doorgaan.',\n",
       " 'RT @Momootjem: Mondkapjes is een oefening in gehoorzaamheid. #ikwildieprik https://t.co/qGLxt9yKQI',\n",
       " '@BastiaanRagas Schande. Overigens beschermt de gevaccineerde alleen zichzelf en niet de ander. Mondkap en afstand houden blijft dus nodig. @WHO En waarom moeten mensen zich vaccineren die al covid gehad hebben? Vaccinatie na 2 injecties, hooguit 2/3 mnd bescherming. En dan? Weer ‘n vaccin?',\n",
       " 'Op 12 oktober verbood Burgemeester Van Zanen een lopende demonstratie van 30 personen (op 1,5 meter, met mondkapjes) tegen Shell. Op ons bezwaar is niet eens gereageerd. En dit mag wel? Hoe zit dat @GemeenteDenHaag ? #Demonstratierecht \\\\n\\\\nhttps://t.co/qhCgN3wCAe',\n",
       " 'Lieve collega’s die vinden dat ze vandaag fysiek voor de klas moeten staan; doe het niet. Ga online. Als je jezelf ertoe gedwongen voelt, werk zo veilig mogelijk. Maak kleinere groepen, draag maskers, blijf ventileren ondanks de kou, mijd engelachtige collegae &amp; hou afstand.1/',\n",
       " '@wijnenthousiast Zeg Mondkapje waar ga je heeheeen??',\n",
       " 'Nu leraren, politie etc ook vinden dat zij als eerste geprikt moeten worden, verdwijnt de bescherming van kwetsbare ouderen, nog maar paar wkn geleden in groep A en B, wel heel ver achter de horizon \\\\nWat zegt de Gezondheidsraad hiervan?',\n",
       " '@DieTukkerfries Niet het meest vitale, maar ook niet overbodig daar we afgelopen jaar oa kuchschermen, hygienedisplays, van die kekke afstandhoustickers voor op de vloer,  niet medische mondkapjes en aankleding van teststraten hebben gemaakt.  Dat ipv festivaldecoratie.',\n",
       " 'Moi. wie bint eem uut de lochte west; paor daogen bie oes nichie Grietje, die het ien nei prugeltie, Margje, döt niks as schreien, 1,5m helpt ja niks. Ok drok met kerst èn moesiesaovend, old jaar gongen wij an t karbidschieten en neijaorlopen. Bint er wurrig van. Gelukkig neijaor',\n",
       " 'Rotterdammer belt RIVM 30-12-2020 \\\\n\\\\nhttps://t.co/H0wH2CK5cA via @YouTube\\\\n\\\\nIk ben me KAPOT geschrokken!\\\\n\\\\nOok deJonge laat z’n kinderen NIET inenten met deze 2 horrorvaccins.\\\\n\\\\nDe 1e ‘prik’ is voor de vreselijke bijwerkingen van de 2e prik, het ‘vaccin’.\\\\n\\\\nTWEEPS, KIJK &amp; RT DIT AUB!!',\n",
       " '@w8eens @smeerlingantiek Hee een mondkapje.',\n",
       " 'Nevada (US) heeft een streng mondkapjesbeleid (vanaf juni, recent zelfs overal en altijd verplicht).\\\\n\\\\nDesondanks één vd allerhoogste Zkh Opnames (per M inw) van alle US states.  \\\\n\\\\nhttps://t.co/TcOZSrugYV https://t.co/kmH1KcB50G',\n",
       " \"@NOS Weinig geparkeerde auto's hier. Dus weinig mensen die thuis werken. Verder zag ik ook dat er een kapper open was. Is de lockdown al voorbij? 🤔\",\n",
       " '@haarlem Gelukkig liggen ze wel op 1,5 m van elkaar.....',\n",
       " '@SuzanKemperman De pijlers zijn hier sterfte voorkomen (ouderen en kwetsbaren), besmetting voorkomen (jongeren)en sociale sleutelfuncties beschermen (zorgpersoneel)',\n",
       " '@hugodejonge Ik wil graag zeggen dat jullie het bij de lockdown goed doen om een scheiding maken tot medische en niet medische contactberoepen. 👍\\\\nMaar dan heb ik toch een vraag. Waarom behoren #haptotherapeuten niet tot de groep van medische contactberoepen??',\n",
       " 'Op 12 oktober verbood Burgemeester Van Zanen een lopende demonstratie van 30 personen (op 1,5 meter, met mondkapjes) tegen Shell. Op ons bezwaar is niet eens gereageerd. En dit mag wel? Hoe zit dat @GemeenteDenHaag ? #Demonstratierecht \\\\n\\\\nhttps://t.co/qhCgN3wCAe',\n",
       " '@biefstuk77 @thierrybaudet Oh wat zal jij van een koude kermis thuis komen als de 1.5 meter lockdown en de mondkapjes plicht van kracht zullen blijven wanneer iedereen gevaccineerd is. \\\\nJe gaat je hoop zien vervliegen en in en gat vallen. #wakeup',\n",
       " 'RT @Pietjan21272753: @Hoofdzuster1 @THoutkooper @RoelfTurksema Kijk effe op de doos mondkapjes werken niet voor covid  19.',\n",
       " 'De vaccins liggen massaal in de koelkast wegens opstartfase, taskforce en voorbereiding. En vaccinaties zijn een bevoegdheid van de deelstaten. #kloefkappers',\n",
       " '@F1Kaco @telegraaf Een eenmanspartij? Onder welke steen lig jij te pitten? \\\\nDe PVV is een partij met 20 parlementariërs en 1,5 miljoen kiezers. De 2e partij in dit land.',\n",
       " '@Jopkiedora Maar wat nog belangrijker is, als je toch gevaccineerd wordt, is het nog steeds niet duidelijk hoe lang je tegen corona beschermd wordt #vaccineren #vaccinatiestrategie #nederlad #COVID19NL #COVID19',\n",
       " 'Van 1,5 meter afstand hebben ze daar ook niet gehoord...Omg 😠 #massaiskassa #coronamaatregelen',\n",
       " 'Wat mij bezighoud.. ik mis het gewoon om naar de dierentuin te gaan of naar de bioscoop. Gewoon normaal sociaal contact met mensen zonder gezicht bedekking. Een lach! \\\\n\\\\nWil gewoon graag (eenzame) mensen bij elkaar brengen. Ik houd hoop echt waar, maar doet veel verdriet 🍀',\n",
       " 'Ik zoek me suf naar een definitie/afbakening van de groep &lt; 60 met medische indicatie voor het coronavaccin.  Is die groep gelijk aan de griepprikdoelgroep? #dtv',\n",
       " 'Afgelopen jaar is door artsen en ethici een protocol ontwikkeld voor extreme schaarste op de IC. Inmiddels is dit de veldnorm, met breed draagvlak, in alle ziekenhuizen en de Inspectie. Nogal laat om nu met een spoedwet te komen om protocol te wijzigen. https://t.co/iapTptXeNP',\n",
       " '@SandiaKalloe Ja, toen stond een ongeveer net zo grote massa daar hersenloos te social distancen met een niet-werkend mondkapje, die mensen zijn nog zó veel gekker, ik denk dat je je dat onvoldoende beseft.',\n",
       " 'https://t.co/DNoCAU4nue en MTA dragen ‘steentje bij’ in de strijd tegen coronaSPGPrints (Boxmeer) en MTA Group (Helmond) ontwikkelden en ... https://t.co/QlbI719B0X',\n",
       " 'In de telegramgroep van actiegroep Dutch Survivors voelt Q zich gediscrimineerd, omdat er paashazen met mondkapjes gemaakt worden. H vindt het ook heel erg en Gideon vindt het zelfs crimineel. https://t.co/jGejeLGSiZ',\n",
       " 'Heel Holland bakt 3,4 miljoen kijkers, missie Max 1,5 miljoen kijkers en zelfs de uitgemolken “scheepsjongens van bonte koe”\\\\nBijna 400.000 kijkers! @SigridKaag 306.000 staatsidioten! 5 jaar lang aan gewerkt! Om je kapot te schamen...😂😂😂',\n",
       " '@MeissnerJohan Er had ook kunnen staan dat er meer babies worden gemaakt, maar in een anderhalve meter samenleving is dat strafbaar dus wie weet wat er allemaal stiekem gebeurt.',\n",
       " 'RT @manyavo: Mondkapjes zijn flut roept mijn neefje van 8 jaar al maanden. En hij heeft gelijk. https://t.co/9cYQq0jNC8',\n",
       " '@JackMarsman Dus al die mensen die voor de coronacrisis een mondkapje meerdere uren per dag op moesten zoals bv chirurgen zijn allemaal mensen met een lage weerstand? Om nog maar niet te spreken over het vele handen ontsmetten...\\\\nPraat geen onzin',\n",
       " '@JoostNiemoller Zeg journalist, het virus wordt niet geremd met het vaccin. Minder mensen worden minder ziek. Maar er wordt niets geremd.\\\\n\\\\nSterker nog, het biedt net zoals het mondkapje schijnveiligheid.',\n",
       " '@SuisseKnife Hoezo proberen: geen echte lockdown, veel mensen houden geen afstand, dragen mondkapje verkeerd, hebben teveel contacten,geen avondklok,scholen,horeca,winkels veel te lang open geblevenEnige dat helpt is keiharde echte lockdown+avondklok,geen demonstraties etc.',\n",
       " '@vrtnws blijft maar kwebbelen over de vaccinatiestrategie.\\\\n@ruthjoos duikt in nutteloze details.\\\\n\\\\n@vrt probeert krampachtig de bittere waarheid onder te sneeuwen.\\\\nLevering:87500 vaccins/wk\\\\nNodig 63000/dag\\\\n( 11,5mio*2/365)',\n",
       " 'Heel Holland bakt 3,4 miljoen kijkers, missie Max 1,5 miljoen kijkers en zelfs de uitgemolken “scheepsjongens van bonte koe”\\\\nBijna 400.000 kijkers! @SigridKaag 306.000 staatsidioten! 5 jaar lang aan gewerkt! Om je kapot te schamen...😂😂😂',\n",
       " 'Elke keer de grenzen opzoeken 😠\\\\n\"De nu geplande testevenementen vereisen wel een opschorting van de coronaregels zoals het verplicht anderhalve meter afstand houden. Volgens Lubberts is daar al een kabinetsbesluit over genomen al is dat nog niet officieel bekend gemaakt.\"',\n",
       " '#Vaccinatie @hugodejonge @rivm @GGDGHORNL \\\\nIn de planning van vaccineren mis ik de groep 60+ met medische indicatie. Iemand van 59 met een medische indicatie is veel eerder aan de beurt dan iemand van 60 met eenzelfde medische indicatie.\\\\nHoe zit dat?',\n",
       " 'Fijn dat we naast corona, Trump en Brexit ook eens een geplette wolharige neushoorn in de krant hebben. Dankzij @hendrikspiering en @siberian_times https://t.co/zVyy76dPRE',\n",
       " 'Lieven Annemans, versoepelbrigade, minimaliseert besmettingen, kom, we maken hem kapot.\\\\n\\\\nUK variant, we lanceren verhalen over ziekenhuizen vol zieke kinderen, woops blijkt niet waar, maar wij zijn en blijven wel de goeien.\\\\n\\\\nWaakzaamheid blijft geboden. Kan ook zonder fake news. https://t.co/UoY1DhVnwN',\n",
       " \"Lockdown nog geen knockout, maar 'een joggingbroek levert minder op dan een pak' https://t.co/uvs0k1YBQx via @Nieuwsuur \\\\n\\\\n#vrouwen #corona #coronamaatregelen #coronavaccin #coronavirus #Covid19 #anderhalvemeter #mondkapje #lockdown #BlijfThuis\",\n",
       " 'De vaccins liggen massaal in de koelkast wegens opstartfase, taskforce en voorbereiding. En vaccinaties zijn een bevoegdheid van de deelstaten. #kloefkappers',\n",
       " 'Heeft u ooit iemand vh kartel horen zeggen dat wie corona heeft gehad of ‘n “vaccin” heeft laten inspuiten weer vrij mag? Nee. Want we gaan naar ‘n “nieuw normaal”. Voor altijd. Het “vaccin” is hoepeltje waar ze ons doorheen laten springen. Ook daarna blijft 1.5m, mondkapjes, etc',\n",
       " \"Honderden pagina's adviezen Inspectie Financiën doorgenomen rond aankopen beschermend materiaal e.d. \\\\n\\\\n'Nood breekt wet' tijdens de eerste golf, maar vanaf eind mei werd maandenlang aangedrongen op het respecteren van de wettelijke normaliteit.\\\\n\\\\nhttps://t.co/tyhN4VMSmO\",\n",
       " \"'Ziekenhuizen zijn woest op minister Tamara van Ark van Medische Zorg, omdat die de extra ic-bedden voor coronapatiënten niet wil vergoeden.' Tja, dit is het beleid, niet de zorg opschalen maar de economie kapot maken! Waarom zou dat zijn?? Wakker worden! \\\\nhttps://t.co/nI7IBozXcu\",\n",
       " '@EllenMeibloem @PeterdeP @Dirku51 @mauricedehond Jij stelt toch dat 98% niet naar het ziekenhuis hoeft omdat ze alleen maar een snotneus of griepje krijgen. (immuniteit is namelijk niet dat je afweer systeem niks doet). Dus stel je dat 2% wel een kans heeft daar te komen toch? Ja pcr test zegt niks 5min later kan je het oplopen',\n",
       " '@MartijnTonies @NOS Jij had het over speciaal, en het is nieuw dat Wilders het vertrouwen in De Jonge opzegt vanwege zijn lakse aanpak in deze pandemie, dus terecht nieuws.',\n",
       " 'Voordeel of nadeel; mensen nieuwjaar wensen in coronatijd. Dus geen handenschudden, 3x kussen enz. Maar op 1.5 mrt. en met mondkapjes. Soms stiekem toch wel een voordeel toch? Het is toch soms best ongemakkelijk. Het is nu eigenlijk veel makkelijker.',\n",
       " '@BerberEpker @mauricedehond Hoe kom je er bij dat covid tegen griep beschermd?',\n",
       " '#coronadebat \\\\nJarenlang al het zorgpersoneel uitgeknepen,zorgbehoevenden in de kou laten staan,alles maar dan ook echt alles helemaal kapot bezuinigd.JA NOU ZIT JE MET DE GEBAKKEN PEREN!! Even resumé, de laatste 10 jaar stapelt dit kabinet fout op fout,schandaal na schandaal.',\n",
       " '@KleinMarjo @_JustNatasja @MinPres @hugodejonge @tamaravanark Blijkt toch dat maatregelen geen nut hebben,landen die geen mondkapjes plicht en lockdown hebben doen het beter dan Nederland. Wie houd wie nou voor de gek. Jij mij niet,eerder jezelf.',\n",
       " 'Jaja media. Vaccins zijn geweldig. Zorg is overbelast. Corona is erg. Mondkapjes werken. Trump is dom. Bolsonaro is een homohater. Wit-Rusland gaat alles mis. Rutte is geweldig. En Kaag. En Merkel. En Biden. We weten het nu wel. Jullie zijn niets meer dan een propagandatool.',\n",
       " '\"Het is niet een symbolische prik. Het is een levensreddend vaccin.\"\\\\n\\\\n@LodewijkA vraagt @MinPres tijdens het #coronadebat wat hij gaat doen om te zorgen dat mensen beschermd worden.👇 https://t.co/Uu94er6KrL',\n",
       " '@M66736253 @AukevanEijsden Juist. En de WHO heeft zelf al aangegeven dat mondkapjes en 1,5 m blijven.',\n",
       " 'KoWiWeerHut Schiedam\\\\n14h | Actueel weer\\\\n\\\\nWind: 0.8 m/s ONO\\\\nWindvlaag: 1.5 m/s\\\\nTemperatuur: 3.5 °C\\\\nRel. vochtigheid: 88 %\\\\nLuchtdruk: 1017.3 mbar\\\\nRegen: 0.0 mm\\\\nZon-instraling: 18 W/m²\\\\nUV index: 0 \\\\n\\\\nhttps://t.co/0m9uwayZA4\\\\n#Weathercloud',\n",
       " 'Ik loop al 46 jr rond op deze aardbol en ik ben nog steeds gezond.\\\\n\\\\n▪️als de regering mij bewijs kan leveren dat COVID-19 echt is en geïsoleerd is, dan houd ik me aan de regels.\\\\n▪️als de regering mij bewijs kan leveren dat de 1,5 meter regel werkt dan hou ik mij daar aan.',\n",
       " '@bartderre @Berre1968 @JohnGeens Stedelijk gebied rond Helsinki telt toch 1,5 miljoen inwoners, metropoolregio 1,8 miljoen inwoners, geen kleine stad.',\n",
       " 'We zijn op zoek naar stembureauleden voor de Tweede Kamerverkiezingen op 17 maart 2021 ✔✏️ Vanwege het coronavirus hebben we extra stembureauleden nodig.\\\\nBen jij 18 jaar of ouder, kiesgerechtigd én wil jij bijdragen aan de verkiezingen? Kijk dan op https://t.co/ETy4mEl5Vh https://t.co/1KJURe3Ehc']"
      ]
     },
     "execution_count": 8,
     "metadata": {},
     "output_type": "execute_result"
    }
   ],
   "source": [
    "facemask_messages[0:200]"
   ]
  },
  {
   "cell_type": "code",
   "execution_count": 44,
   "metadata": {},
   "outputs": [],
   "source": [
    "# TODO: clean and preprocess the messages\n",
    "\n",
    "# V lowercasing\n",
    "# V remove punctuation / special chars\n",
    "# V stopword removal\n",
    "# V remove of urls\n",
    "# V tokenization\n",
    "# V stemming / lemmatization\n",
    "# X text normalization / representation\n",
    "\n",
    "def lowercase_doc(doc: str) -> str:\n",
    "    \"\"\"\n",
    "    Transform a document into lowercase.\n",
    "    \"\"\"\n",
    "    return doc.lower()\n",
    "\n",
    "\n",
    "def remove_urls(doc: str) -> str:\n",
    "    \"\"\"\n",
    "    Return a document stripped of any URLs.\n",
    "    \"\"\"\n",
    "    url_pattern = r\"http[s]*\\S+\"\n",
    "    clean_doc = re.sub(url_pattern, ' ', doc)\n",
    "    return clean_doc\n",
    "\n",
    "\n",
    "def remove_punctuation(doc: str) -> str: \n",
    "    \"\"\"\n",
    "    Transform a text document into a document without punctuation, digits, newline characters and twitter tags (@HugodeJonge, etc.).\n",
    "    \"\"\"\n",
    "    doc = doc.replace('\\\\n', ' ')\n",
    "\n",
    "    punct_pattern = r\"@\\w+\\b|[^\\w\\s]|\\d+\"\n",
    "    \n",
    "    clean_doc = re.sub(punct_pattern, ' ', doc, )\n",
    "\n",
    "    return clean_doc\n",
    "    \n",
    "\n",
    "def tokenize(doc: str, nlp, lemma = True) -> list:\n",
    "    \"\"\"\n",
    "    Transform string document into a tokenized list.\n",
    "    The lemma parameter specifiec whether to return lemmatized words or not.\n",
    "    \"\"\"\n",
    "    if lemma:\n",
    "        return [token.lemma_ for token in nlp(doc) if not token.is_stop]\n",
    "    else:\n",
    "        return [token for token in nlp(doc) if not token.is_stop]\n",
    "\n",
    "\n",
    "def delete_only_consonant_words(doc: list) -> list:\n",
    "    \"\"\"\n",
    "    Delete all words from a list containing only consonants (such as 'vs' or typos such as 'js' instead of 'is')\n",
    "    \"\"\"\n",
    "    vowels = ['a', 'e', 'i', 'o', 'u', 'y']\n",
    "    return [word for word in doc if any(vowel in word for vowel in vowels)]\n"
   ]
  },
  {
   "cell_type": "code",
   "execution_count": 45,
   "metadata": {},
   "outputs": [],
   "source": [
    "nlp = spacy.load(\"nl_core_news_sm\")\n",
    "\n",
    "cleaned_messages = []\n",
    "\n",
    "for sentence in all_messages:\n",
    "\n",
    "    sentence = lowercase_doc(sentence)\n",
    "    sentence = demojize(sentence)\n",
    "    sentence = remove_urls(sentence)\n",
    "    sentence = remove_punctuation(sentence)\n",
    "    tokenized = tokenize(sentence, nlp)\n",
    "    cleaned = delete_only_consonant_words(tokenized)\n",
    "\n",
    "    cleaned_message = ' '.join(cleaned)\n",
    "    cleaned_messages.append(cleaned_message)"
   ]
  },
  {
   "cell_type": "code",
   "execution_count": 46,
   "metadata": {},
   "outputs": [],
   "source": [
    "with open(\"cleaned_messages.pkl\", 'wb') as file:\n",
    "    pickle.dump(cleaned_messages, file)"
   ]
  },
  {
   "cell_type": "code",
   "execution_count": 5,
   "metadata": {},
   "outputs": [],
   "source": [
    "with open(\"cleaned_messages.pkl\", \"rb\") as file:\n",
    "    cleaned_messages = pickle.load(file)"
   ]
  },
  {
   "cell_type": "code",
   "execution_count": 6,
   "metadata": {},
   "outputs": [
    {
     "data": {
      "text/plain": [
       "18662"
      ]
     },
     "execution_count": 6,
     "metadata": {},
     "output_type": "execute_result"
    }
   ],
   "source": [
    "len(cleaned_messages)"
   ]
  },
  {
   "cell_type": "code",
   "execution_count": 33,
   "metadata": {},
   "outputs": [
    {
     "name": "stdout",
     "output_type": "stream",
     "text": [
      "Before cleaning:\n",
      "Echt hè? Ik gedraag me wel hoor. Uiteraard. 😊Gelukkig nieuwjaar allemaal. 🥂🍾 https://t.co/yygsc07uc7\n",
      "After cleaning:\n",
      "echt gedraag hoor uiteraard gelukkig nieuwjaar allemaal\n",
      "\n",
      "Before cleaning:\n",
      "@WilmadeJong1 @mariannezw @HellieS8 Precies. Mondkapje, binnen blijven,  en angst verzwakken je immuunsysteem. Langdurig gebruik van een mondkapje kan zelfs schimmels veroorzaken die diep in de longen gaan zitten. Gevolg longontsteking. Bij ouderen zeer gevaarlijk!\n",
      "After cleaning:\n",
      "mondkap blijven angst verzwakken immuunsysteem langdurig gebruik mondkap schimmel veroorzaken diep long gaan zitten gevolg longontsteking oud gevaarlijk\n",
      "\n",
      "Before cleaning:\n",
      "Kheb zoveel mooie outfits die ik ni heb kunne dragen door corona 🥺\n",
      "After cleaning:\n",
      "kheb mooi outfit ni kunne dragen corona\n",
      "\n",
      "Before cleaning:\n",
      "@Sandoka04120321 @BiancaLesman @telegraaf Dit moet stoppen!\\n\\n#GERRITSEN🗽 #PvdKB #TK2021🇳🇱 SAMEN STERK 👊\\n\\n#jeugdzorg #jeugdbescherming #school #onderwijs #rechtstaat\\n#ouders #kinderen #onrecht \\n#kindermishandeling #kindermisbruik #revolutie \\n#corona #covid #lockdown #mondkapjes #verkiezingen @PvdKB_ #neurenberg #rechten https://t.co/VfjAOP7tb9\n",
      "After cleaning:\n",
      "stoppen gerritsen samen sterk jeugdzorg jeugdbescherming school onderwijs rechtstaat ouder kind onrecht kindermishandeling kindermisbruik revolutie corona covid lockdown mondkap verkiezing Neurenberg recht\n",
      "\n",
      "Before cleaning:\n",
      "@RolandPierik @hugodejonge En daar is dus al die discussie over. Mondkapjes wel/niet, wie wel, wie niet, medisch/niet-medisch. Afstand houden, aerosolen, ventileren. Kerk en Ikea vs het sportveld. Scholen open, scholen dicht, etc, etc. Die regels zijn juist niet allemaal even voorstelbaar cq logisch.\n",
      "After cleaning:\n",
      "discussie mondkap medisch medisch afstand houden aerosol ventileur kerk Ikea sportveld school open school dicht regel allemaal voorstelbaar logisch\n",
      "\n"
     ]
    }
   ],
   "source": [
    "for before, after in zip(facemask_messages[0:5], cleaned_messages[0:5]):\n",
    "    print(f\"Before cleaning:\\n{before}\\nAfter cleaning:\\n{after}\\n\")"
   ]
  },
  {
   "cell_type": "code",
   "execution_count": 7,
   "metadata": {},
   "outputs": [],
   "source": [
    "# TODO: represent the messages into formats that can be used in clustering or LDA algorithms (you may need different represention for two algorithms)\n",
    "\n",
    "# LDA input\n",
    "vectorizer = CountVectorizer(min_df = 1)\n",
    "lda_input = vectorizer.fit_transform(cleaned_messages)\n",
    "lda_featurenames = vectorizer.get_feature_names_out()"
   ]
  },
  {
   "cell_type": "code",
   "execution_count": 8,
   "metadata": {},
   "outputs": [],
   "source": [
    "# Clustering input\n",
    "vectorizer = TfidfVectorizer()\n",
    "vectorized = vectorizer.fit_transform(cleaned_messages)\n",
    "clustering_input = vectorized.toarray()\n",
    "clustering_featurenames = vectorizer.get_feature_names_out()\n"
   ]
  },
  {
   "cell_type": "markdown",
   "metadata": {},
   "source": [
    " ## 1.2 Exploratory Data Analysis\n",
    " After preprocessing the data, create at least 2 figures or tables that help you understand the data.\n",
    "\n",
    " While exploring the data, you may also think about questions such as:\n",
    " - Can you spot any differences between Twitter data and usual text data?\n",
    " - Does your exploration reveal some issues that would make it difficult to interpret the topics?\n",
    " - Can you improve the data by adding additional preprocessing steps?"
   ]
  },
  {
   "cell_type": "code",
   "execution_count": 14,
   "metadata": {},
   "outputs": [],
   "source": [
    "# TODO: plot figure(s)\n"
   ]
  },
  {
   "cell_type": "markdown",
   "metadata": {},
   "source": [
    "## 2.1 Topic modelling and clustering\n",
    " In the second part of the assignment, you will first:\n",
    " -\tImplement a Latent Dirichlet Allocation (LDA) algorithm to identify the discussed topics for your theme\n",
    " -\tImplement a clustering method  to cluster messages into different groups, then represent the topic of each cluster using a bag of words\n",
    "\n",
    "While implementing the algorithms, you may use the codes from the recommended packages. In the final report, please explain reasons to select the used algorithm/package. "
   ]
  },
  {
   "cell_type": "code",
   "execution_count": 49,
   "metadata": {},
   "outputs": [
    {
     "data": {
      "text/html": [
       "<style>#sk-container-id-1 {color: black;}#sk-container-id-1 pre{padding: 0;}#sk-container-id-1 div.sk-toggleable {background-color: white;}#sk-container-id-1 label.sk-toggleable__label {cursor: pointer;display: block;width: 100%;margin-bottom: 0;padding: 0.3em;box-sizing: border-box;text-align: center;}#sk-container-id-1 label.sk-toggleable__label-arrow:before {content: \"▸\";float: left;margin-right: 0.25em;color: #696969;}#sk-container-id-1 label.sk-toggleable__label-arrow:hover:before {color: black;}#sk-container-id-1 div.sk-estimator:hover label.sk-toggleable__label-arrow:before {color: black;}#sk-container-id-1 div.sk-toggleable__content {max-height: 0;max-width: 0;overflow: hidden;text-align: left;background-color: #f0f8ff;}#sk-container-id-1 div.sk-toggleable__content pre {margin: 0.2em;color: black;border-radius: 0.25em;background-color: #f0f8ff;}#sk-container-id-1 input.sk-toggleable__control:checked~div.sk-toggleable__content {max-height: 200px;max-width: 100%;overflow: auto;}#sk-container-id-1 input.sk-toggleable__control:checked~label.sk-toggleable__label-arrow:before {content: \"▾\";}#sk-container-id-1 div.sk-estimator input.sk-toggleable__control:checked~label.sk-toggleable__label {background-color: #d4ebff;}#sk-container-id-1 div.sk-label input.sk-toggleable__control:checked~label.sk-toggleable__label {background-color: #d4ebff;}#sk-container-id-1 input.sk-hidden--visually {border: 0;clip: rect(1px 1px 1px 1px);clip: rect(1px, 1px, 1px, 1px);height: 1px;margin: -1px;overflow: hidden;padding: 0;position: absolute;width: 1px;}#sk-container-id-1 div.sk-estimator {font-family: monospace;background-color: #f0f8ff;border: 1px dotted black;border-radius: 0.25em;box-sizing: border-box;margin-bottom: 0.5em;}#sk-container-id-1 div.sk-estimator:hover {background-color: #d4ebff;}#sk-container-id-1 div.sk-parallel-item::after {content: \"\";width: 100%;border-bottom: 1px solid gray;flex-grow: 1;}#sk-container-id-1 div.sk-label:hover label.sk-toggleable__label {background-color: #d4ebff;}#sk-container-id-1 div.sk-serial::before {content: \"\";position: absolute;border-left: 1px solid gray;box-sizing: border-box;top: 0;bottom: 0;left: 50%;z-index: 0;}#sk-container-id-1 div.sk-serial {display: flex;flex-direction: column;align-items: center;background-color: white;padding-right: 0.2em;padding-left: 0.2em;position: relative;}#sk-container-id-1 div.sk-item {position: relative;z-index: 1;}#sk-container-id-1 div.sk-parallel {display: flex;align-items: stretch;justify-content: center;background-color: white;position: relative;}#sk-container-id-1 div.sk-item::before, #sk-container-id-1 div.sk-parallel-item::before {content: \"\";position: absolute;border-left: 1px solid gray;box-sizing: border-box;top: 0;bottom: 0;left: 50%;z-index: -1;}#sk-container-id-1 div.sk-parallel-item {display: flex;flex-direction: column;z-index: 1;position: relative;background-color: white;}#sk-container-id-1 div.sk-parallel-item:first-child::after {align-self: flex-end;width: 50%;}#sk-container-id-1 div.sk-parallel-item:last-child::after {align-self: flex-start;width: 50%;}#sk-container-id-1 div.sk-parallel-item:only-child::after {width: 0;}#sk-container-id-1 div.sk-dashed-wrapped {border: 1px dashed gray;margin: 0 0.4em 0.5em 0.4em;box-sizing: border-box;padding-bottom: 0.4em;background-color: white;}#sk-container-id-1 div.sk-label label {font-family: monospace;font-weight: bold;display: inline-block;line-height: 1.2em;}#sk-container-id-1 div.sk-label-container {text-align: center;}#sk-container-id-1 div.sk-container {/* jupyter's `normalize.less` sets `[hidden] { display: none; }` but bootstrap.min.css set `[hidden] { display: none !important; }` so we also need the `!important` here to be able to override the default hidden behavior on the sphinx rendered scikit-learn.org. See: https://github.com/scikit-learn/scikit-learn/issues/21755 */display: inline-block !important;position: relative;}#sk-container-id-1 div.sk-text-repr-fallback {display: none;}</style><div id=\"sk-container-id-1\" class=\"sk-top-container\"><div class=\"sk-text-repr-fallback\"><pre>LatentDirichletAllocation(random_state=8)</pre><b>In a Jupyter environment, please rerun this cell to show the HTML representation or trust the notebook. <br />On GitHub, the HTML representation is unable to render, please try loading this page with nbviewer.org.</b></div><div class=\"sk-container\" hidden><div class=\"sk-item\"><div class=\"sk-estimator sk-toggleable\"><input class=\"sk-toggleable__control sk-hidden--visually\" id=\"sk-estimator-id-1\" type=\"checkbox\" checked><label for=\"sk-estimator-id-1\" class=\"sk-toggleable__label sk-toggleable__label-arrow\">LatentDirichletAllocation</label><div class=\"sk-toggleable__content\"><pre>LatentDirichletAllocation(random_state=8)</pre></div></div></div></div></div>"
      ],
      "text/plain": [
       "LatentDirichletAllocation(random_state=8)"
      ]
     },
     "execution_count": 49,
     "metadata": {},
     "output_type": "execute_result"
    }
   ],
   "source": [
    "# TODO: topic modeling using the LDA algorithm\n",
    "from sklearn.decomposition import LatentDirichletAllocation as HyperLDA\n",
    "\n",
    "lda = HyperLDA(\n",
    "    n_components = 10,\n",
    "    random_state = 8\n",
    ")\n",
    "lda.fit(lda_input)"
   ]
  },
  {
   "cell_type": "code",
   "execution_count": 38,
   "metadata": {},
   "outputs": [],
   "source": [
    "import gensim\n",
    "\n",
    "words = [message.split() for message in cleaned_messages]\n",
    "id2word = gensim.corpora.Dictionary(words)\n",
    "corpus = [id2word.doc2bow(word) for word in words]\n",
    "\n",
    "gensim_lda = gensim.models.LdaMulticore(\n",
    "    num_topics = 10,\n",
    "    corpus = corpus,\n",
    "    id2word = id2word\n",
    ")"
   ]
  },
  {
   "cell_type": "code",
   "execution_count": 50,
   "metadata": {},
   "outputs": [
    {
     "name": "stdout",
     "output_type": "stream",
     "text": [
      "[(0,\n",
      "  '0.024*\"mondkap\" + 0.017*\"afstand\" + 0.014*\"meter\" + 0.012*\"mens\" + '\n",
      "  '0.011*\"houden\" + 0.011*\"gaan\" + 0.010*\"werken\" + 0.005*\"zeggen\" + '\n",
      "  '0.005*\"mondkapjesplicht\" + 0.005*\"zitten\"'),\n",
      " (1,\n",
      "  '0.016*\"mondkap\" + 0.014*\"mens\" + 0.012*\"gaan\" + 0.011*\"houden\" + '\n",
      "  '0.009*\"afstand\" + 0.006*\"komen\" + 0.006*\"medisch\" + 0.006*\"lockdown\" + '\n",
      "  '0.006*\"test\" + 0.006*\"willen\"'),\n",
      " (2,\n",
      "  '0.023*\"mondkap\" + 0.012*\"meter\" + 0.009*\"afstand\" + '\n",
      "  '0.007*\"mondkapjesplicht\" + 0.007*\"dragen\" + 0.007*\"maatregel\" + '\n",
      "  '0.007*\"mens\" + 0.006*\"laten\" + 0.006*\"jaar\" + 0.006*\"houden\"'),\n",
      " (3,\n",
      "  '0.011*\"mondkap\" + 0.008*\"mens\" + 0.007*\"corona\" + 0.007*\"komen\" + '\n",
      "  '0.006*\"laten\" + 0.006*\"medisch\" + 0.006*\"jaar\" + 0.006*\"vaccinatie\" + '\n",
      "  '0.006*\"maken\" + 0.006*\"meter\"'),\n",
      " (4,\n",
      "  '0.041*\"mondkap\" + 0.012*\"gaan\" + 0.009*\"dragen\" + 0.007*\"maken\" + '\n",
      "  '0.007*\"mens\" + 0.007*\"meter\" + 0.007*\"maatregel\" + 0.006*\"laten\" + '\n",
      "  '0.005*\"lockdown\" + 0.005*\"blijven\"'),\n",
      " (5,\n",
      "  '0.024*\"mondkap\" + 0.013*\"mens\" + 0.011*\"mondkapje\" + 0.009*\"zien\" + '\n",
      "  '0.008*\"beschermen\" + 0.006*\"krijgen\" + 0.006*\"virus\" + 0.006*\"gaan\" + '\n",
      "  '0.006*\"medisch\" + 0.005*\"covid\"'),\n",
      " (6,\n",
      "  '0.015*\"mondkap\" + 0.010*\"gaan\" + 0.009*\"meter\" + 0.009*\"houden\" + '\n",
      "  '0.008*\"echt\" + 0.007*\"mens\" + 0.007*\"vaccinatie\" + 0.006*\"afstand\" + '\n",
      "  '0.005*\"zien\" + 0.005*\"komen\"'),\n",
      " (7,\n",
      "  '0.018*\"mondkap\" + 0.016*\"gaan\" + 0.011*\"meter\" + 0.007*\"houden\" + '\n",
      "  '0.007*\"maatregel\" + 0.007*\"mondkapje\" + 0.007*\"iedereen\" + 0.007*\"dragen\" + '\n",
      "  '0.007*\"avondklok\" + 0.006*\"laten\"'),\n",
      " (8,\n",
      "  '0.014*\"mondkap\" + 0.009*\"meter\" + 0.009*\"jaar\" + 0.008*\"miljoen\" + '\n",
      "  '0.008*\"lockdown\" + 0.008*\"mens\" + 0.006*\"maatregel\" + 0.006*\"laten\" + '\n",
      "  '0.005*\"avondklok\" + 0.005*\"komen\"'),\n",
      " (9,\n",
      "  '0.025*\"mondkap\" + 0.014*\"gaan\" + 0.014*\"mens\" + 0.012*\"meter\" + '\n",
      "  '0.008*\"afstand\" + 0.008*\"komen\" + 0.008*\"dragen\" + 0.007*\"houden\" + '\n",
      "  '0.007*\"werken\" + 0.006*\"lockdown\"')]\n"
     ]
    }
   ],
   "source": [
    "from pprint import pprint\n",
    "pprint(gensim_lda.print_topics())"
   ]
  },
  {
   "cell_type": "code",
   "execution_count": null,
   "metadata": {},
   "outputs": [],
   "source": [
    "# Printing the LDA results \n",
    "for i, component in enumerate(lda.components_):\n",
    "\n",
    "    top_terms = sorted(zip(lda_featurenames, component), key = lambda x: x[1], reverse = True)[:10]\n",
    "    top_terms = [term[0] for term in top_terms]\n",
    "    print(f\"Topic {i}: {top_terms}\")"
   ]
  },
  {
   "cell_type": "code",
   "execution_count": 9,
   "metadata": {},
   "outputs": [
    {
     "name": "stderr",
     "output_type": "stream",
     "text": [
      "c:\\Users\\danie\\AppData\\Local\\Programs\\Python\\Python39\\lib\\site-packages\\sklearn\\cluster\\_kmeans.py:1416: FutureWarning: The default value of `n_init` will change from 10 to 'auto' in 1.4. Set the value of `n_init` explicitly to suppress the warning\n",
      "  super()._check_params_vs_input(X, default_n_init=10)\n",
      "c:\\Users\\danie\\AppData\\Local\\Programs\\Python\\Python39\\lib\\site-packages\\joblib\\externals\\loky\\backend\\context.py:110: UserWarning: Could not find the number of physical cores for the following reason:\n",
      "found 0 physical cores < 1\n",
      "Returning the number of logical cores instead. You can silence this warning by setting LOKY_MAX_CPU_COUNT to the number of cores you want to use.\n",
      "  warnings.warn(\n",
      "  File \"c:\\Users\\danie\\AppData\\Local\\Programs\\Python\\Python39\\lib\\site-packages\\joblib\\externals\\loky\\backend\\context.py\", line 217, in _count_physical_cores\n",
      "    raise ValueError(\n"
     ]
    },
    {
     "data": {
      "image/png": "[encoded data removed]",
      "text/plain": [
       "<Figure size 640x480 with 1 Axes>"
      ]
     },
     "metadata": {},
     "output_type": "display_data"
    }
   ],
   "source": [
    "# TODO: cluster the messages using a clustering algorithm\n",
    "\n",
    "from sklearn.cluster import KMeans\n",
    "import matplotlib.pyplot as plt\n",
    "\n",
    "k = 6\n",
    "\n",
    "kmeans = KMeans(n_clusters = k, random_state = 9)\n",
    "kmeans.fit(clustering_input)\n",
    "labels = kmeans.labels_\n",
    "\n",
    "plt.figure()\n",
    "plt.scatter(clustering_input[:, 0], clustering_input[:, 1], c=labels, cmap='viridis')\n",
    "plt.title(\"Text clustering\")\n",
    "plt.show()\n",
    "\n",
    "\n"
   ]
  },
  {
   "cell_type": "markdown",
   "metadata": {},
   "source": [
    "# ???"
   ]
  },
  {
   "cell_type": "markdown",
   "metadata": {},
   "source": [
    " ## 2.2 Results, evaluation and Interpretation \n",
    " \n",
    "Finally, you will describe, evaluate and interpret your findings from two methods. \n",
    "\n",
    "- In the report, you need to describe and discuss the similarity and difference of results from two methods.\n",
    "- While evaluating the results, human judgment is very important, so visualization techniques are helpful to evaluate the identified topics in an interpreted manner. \n",
    "    \n",
    "1. For evaluating the topic modelling algorithm, please first use the interactive tool **[pyLDAvis](https://nbviewer.jupyter.org/github/bmabey/pyLDAvis/blob/master/notebooks/pyLDAvis_overview.ipynb#topic=0&lambda=1&term=)** to examine the inter-topic separation of your findings. \n",
    "\n",
    "2. For interpreting the identified topics / clusters of both algorithms, we provide example code for several visualization techiques. You can use multiple ones to evaluate your results or come up with visualisations on your own. The files contain examples for how to use the visualisation functions.\n"
   ]
  },
  {
   "cell_type": "code",
   "execution_count": null,
   "metadata": {},
   "outputs": [],
   "source": [
    "# TODO: evaluation \n"
   ]
  },
  {
   "cell_type": "markdown",
   "metadata": {},
   "source": [
    "# Bonus Tasks \n",
    "\n",
    "We would like to challenge you with the following bonus task. For each task that is successfully completed, you may obtain max. 1 extra point. \n",
    "\n",
    "1. Implement another clustering algorithm or design your own clustering algorithm. Discuss your findings and explain why this is a better (or worse) clustering algorithm than the above one (the clustering algorithm, not LDA).\n",
    "\n",
    "2. Can you think of other evaluation methods than the provided visualization techniques? If so, implement one and explain why it is a good evaluation for our task."
   ]
  },
  {
   "cell_type": "code",
   "execution_count": null,
   "metadata": {},
   "outputs": [],
   "source": []
  }
 ],
 "metadata": {
  "kernelspec": {
   "display_name": "Python 3 (ipykernel)",
   "language": "python",
   "name": "python3"
  },
  "language_info": {
   "codemirror_mode": {
    "name": "ipython",
    "version": 3
   },
   "file_extension": ".py",
   "mimetype": "text/x-python",
   "name": "python",
   "nbconvert_exporter": "python",
   "pygments_lexer": "ipython3",
   "version": "3.9.6"
  }
 },
 "nbformat": 4,
 "nbformat_minor": 2
}
